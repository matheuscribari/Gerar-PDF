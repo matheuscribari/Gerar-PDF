{
 "cells": [
  {
   "cell_type": "markdown",
   "id": "89f16001-25ca-4364-9157-03d83baeebc0",
   "metadata": {},
   "source": [
    "# Projeto 1 - Geração de PDF"
   ]
  },
  {
   "cell_type": "markdown",
   "id": "e8040e58-fb1d-4455-b467-45290db3e734",
   "metadata": {},
   "source": [
    "## Entrada de Dados"
   ]
  },
  {
   "cell_type": "code",
   "execution_count": 20,
   "id": "6508648e-a5a5-4933-ad62-61190711bfe5",
   "metadata": {},
   "outputs": [
    {
     "name": "stdin",
     "output_type": "stream",
     "text": [
      "Olá qual o seu nome Matheus\n"
     ]
    },
    {
     "name": "stdout",
     "output_type": "stream",
     "text": [
      "Seja bem-vindo! Matheus\n"
     ]
    }
   ],
   "source": [
    "\n",
    "nome = input(\"Olá qual o seu nome\")\n",
    "print(\"Seja bem-vindo!\" ,nome)\n"
   ]
  },
  {
   "cell_type": "markdown",
   "id": "0d721d37-4fea-41a8-9d28-111fc00f7505",
   "metadata": {},
   "source": [
    "## Entrada dos Dados do PDF"
   ]
  },
  {
   "cell_type": "code",
   "execution_count": 50,
   "id": "ae22d4b9-848b-40a1-8382-f814c81846b1",
   "metadata": {},
   "outputs": [
    {
     "name": "stdin",
     "output_type": "stream",
     "text": [
      "Digite a descrição do projeto:  Criação de PDF\n",
      "Digite a quantidade de horas previstas:  300\n",
      "Digite o valor da hora trabalhada:  400\n",
      "Digite o prazo do projeto:  5 meses\n"
     ]
    },
    {
     "name": "stdout",
     "output_type": "stream",
     "text": [
      "120000.0\n"
     ]
    }
   ],
   "source": [
    "\n",
    "projeto = input(\"Digite a descrição do projeto: \")\n",
    "horas_previstas = input(\"Digite a quantidade de horas previstas: \")\n",
    "valor_hora = input(\"Digite o valor da hora trabalhada: \")\n",
    "prazo = input(\"Digite o prazo do projeto: \")\n",
    "\n",
    "#Soma do valor do projeto\n",
    "soma_total = float(valor_hora) * float(horas_previstas)\n",
    "print(soma_total)\n"
   ]
  },
  {
   "cell_type": "markdown",
   "id": "1483ba36-1b83-4caf-b01b-ce60046e58cc",
   "metadata": {},
   "source": [
    "## Calcúlos Python"
   ]
  },
  {
   "cell_type": "code",
   "execution_count": 25,
   "id": "25680426-6423-4b8b-aa39-add10487dba8",
   "metadata": {},
   "outputs": [
    {
     "name": "stdin",
     "output_type": "stream",
     "text": [
      "Digite o primeiro valor 10\n",
      "Digite o segundo valor 20\n"
     ]
    }
   ],
   "source": [
    "valor = input(\"Digite o primeiro valor\")\n",
    "valor2 = input(\"Digite o segundo valor\")"
   ]
  },
  {
   "cell_type": "code",
   "execution_count": 27,
   "id": "528602ae-cef1-4b69-a03c-a4835617ce9b",
   "metadata": {},
   "outputs": [
    {
     "data": {
      "text/plain": [
       "200.0"
      ]
     },
     "execution_count": 27,
     "metadata": {},
     "output_type": "execute_result"
    }
   ],
   "source": [
    "float(valor) * float(valor2)"
   ]
  },
  {
   "cell_type": "markdown",
   "id": "d271edeb-6b4d-4675-8330-fd90e67594f8",
   "metadata": {},
   "source": [
    "## Gerando PDF do Orçamento"
   ]
  },
  {
   "cell_type": "code",
   "execution_count": 33,
   "id": "f46387b8-8a01-4b48-aa76-d6a2e5aa4af4",
   "metadata": {},
   "outputs": [],
   "source": [
    "from fpdf import FPDF\n"
   ]
  },
  {
   "cell_type": "code",
   "execution_count": 51,
   "id": "8b0e3c96-e53e-4a68-be84-4f7ac8331455",
   "metadata": {},
   "outputs": [
    {
     "name": "stdout",
     "output_type": "stream",
     "text": [
      "Orçamento gerado com sucesso\n"
     ]
    }
   ],
   "source": [
    "pdf = FPDF()\n",
    "\n",
    "pdf.add_page()\n",
    "pdf.set_font(\"Arial\")\n",
    "\n",
    "pdf.image(\"template.png\", x=0 , y=0)\n",
    "\n",
    "pdf.text(115,145,projeto)\n",
    "pdf.text(115,160,horas_previstas)\n",
    "pdf.text(115,175,valor_hora)\n",
    "pdf.text(115,190,prazo)\n",
    "pdf.text(115,205, str(soma_total))\n",
    "\n",
    "\n",
    "pdf.output(\"Orçamento.pdf\")\n",
    "\n",
    "\n",
    "print(\"Orçamento gerado com sucesso\")"
   ]
  },
  {
   "cell_type": "code",
   "execution_count": null,
   "id": "ff364603-8815-4bfb-b765-592763e23cd1",
   "metadata": {},
   "outputs": [],
   "source": []
  }
 ],
 "metadata": {
  "kernelspec": {
   "display_name": "Python 3 (ipykernel)",
   "language": "python",
   "name": "python3"
  },
  "language_info": {
   "codemirror_mode": {
    "name": "ipython",
    "version": 3
   },
   "file_extension": ".py",
   "mimetype": "text/x-python",
   "name": "python",
   "nbconvert_exporter": "python",
   "pygments_lexer": "ipython3",
   "version": "3.11.7"
  }
 },
 "nbformat": 4,
 "nbformat_minor": 5
}
